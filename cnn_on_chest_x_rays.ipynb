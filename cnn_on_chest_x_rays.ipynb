{
 "cells": [
  {
   "cell_type": "code",
   "execution_count": null,
   "metadata": {},
   "outputs": [],
   "source": [
    "import numpy as np\n",
    "import pandas as pd\n",
    "import time\n",
    "import os\n",
    "import matplotlib.pyplot as plt\n",
    "import glob\n",
    "from skimage import io\n",
    "from keras.preprocessing.image import ImageDataGenerator, array_to_img, img_to_array, load_img\n",
    "%matplotlib inline"
   ]
  },
  {
   "cell_type": "code",
   "execution_count": null,
   "metadata": {},
   "outputs": [],
   "source": [
    "print(os.listdir(\"/kaggle/input/chest-xray-pneumonia/chest_xray/chest_xray\"))"
   ]
  },
  {
   "cell_type": "code",
   "execution_count": null,
   "metadata": {},
   "outputs": [],
   "source": [
    "dir_path = \"/kaggle/input/chest-xray-pneumonia/chest_xray/chest_xray\"\n",
    "# lets see one of the pneumonia image from train data\n",
    "os.listdir(dir_path+'/train/PNEUMONIA')[:4]"
   ]
  },
  {
   "cell_type": "code",
   "execution_count": null,
   "metadata": {},
   "outputs": [],
   "source": [
    "sample_img = load_img(dir_path+'/train/PNEUMONIA/person498_bacteria_2102.jpeg')\n",
    "sample_img"
   ]
  },
  {
   "cell_type": "markdown",
   "metadata": {},
   "source": [
    "## DATA PREPARATION:\n",
    "## Lets progressively load the train, validation and test data using the ImageDataGenerator of keras."
   ]
  },
  {
   "cell_type": "code",
   "execution_count": null,
   "metadata": {},
   "outputs": [],
   "source": [
    "# Lets initiate the imagedatagenerator\n",
    "datagen = ImageDataGenerator()"
   ]
  },
  {
   "cell_type": "code",
   "execution_count": null,
   "metadata": {},
   "outputs": [],
   "source": [
    "# we will use .flow_from_directory() to generate batches of images data instead of loading them manually\n",
    "batch_size = 16\n",
    "train_generator = datagen.flow_from_directory(dir_path+'/train', batch_size=batch_size, class_mode='binary')\n",
    "valid_generator = datagen.flow_from_directory(dir_path+'/val', batch_size=batch_size, class_mode='binary')\n",
    "test_generator = datagen.flow_from_directory(dir_path+'/test', batch_size=batch_size, class_mode='binary')"
   ]
  },
  {
   "cell_type": "markdown",
   "metadata": {},
   "source": [
    "- From above we can see:\n",
    "- There are total 5216 images in training data.\n",
    "- There are total 16 images in validation data which is low.\n",
    "- There are total 624 images in the testing data."
   ]
  },
  {
   "cell_type": "code",
   "execution_count": null,
   "metadata": {},
   "outputs": [],
   "source": [
    "train_len = 5216\n",
    "val_len = 16\n",
    "test_len = 624"
   ]
  },
  {
   "cell_type": "code",
   "execution_count": null,
   "metadata": {},
   "outputs": [],
   "source": [
    "batchX, batchY = train_generator.next()"
   ]
  },
  {
   "cell_type": "code",
   "execution_count": null,
   "metadata": {},
   "outputs": [],
   "source": [
    "print(batchX.shape)\n",
    "print(batchY.shape)\n",
    "print(np.unique(batchY))"
   ]
  },
  {
   "cell_type": "markdown",
   "metadata": {},
   "source": [
    "- As we can see from above:\n",
    "- the first batch of training data contains total 32 images with 256 by 256 size\n",
    "- Also the batchY have only 0 and 1 values in which:\n",
    "    - 0 represents Normal\n",
    "    - 1 represents PNEUMONIA according to there alphebatical orders(keras conventions)"
   ]
  },
  {
   "cell_type": "markdown",
   "metadata": {},
   "source": [
    "# Base Model:"
   ]
  },
  {
   "cell_type": "code",
   "execution_count": null,
   "metadata": {},
   "outputs": [],
   "source": [
    "# lets first import all the necessary libraries\n",
    "from keras.models import Sequential\n",
    "from keras.layers import Conv2D, MaxPool2D, MaxPooling2D\n",
    "from keras.layers import Activation, Dropout, Flatten, Dense\n",
    "from keras.callbacks import EarlyStopping"
   ]
  },
  {
   "cell_type": "code",
   "execution_count": null,
   "metadata": {},
   "outputs": [],
   "source": [
    "# lets build very basic model\n",
    "def def_model():\n",
    "    \n",
    "    model = Sequential()\n",
    "    model.add(Conv2D(32, (3,3), activation='relu', kernel_initializer='he_uniform', input_shape=(256, 256, 3)))\n",
    "    model.add(MaxPool2D((2,2)))\n",
    "    model.add(Flatten())\n",
    "    model.add(Dense(100, activation='relu', kernel_initializer='he_uniform'))\n",
    "    model.add(Dense(1, activation='sigmoid'))\n",
    "    model.compile(optimizer='rmsprop', loss='binary_crossentropy', metrics=['accuracy'])\n",
    "    return model"
   ]
  },
  {
   "cell_type": "code",
   "execution_count": null,
   "metadata": {},
   "outputs": [],
   "source": [
    "# lets compile our model\n",
    "model = def_model()"
   ]
  },
  {
   "cell_type": "code",
   "execution_count": null,
   "metadata": {},
   "outputs": [],
   "source": [
    "model.summary()"
   ]
  },
  {
   "cell_type": "code",
   "execution_count": null,
   "metadata": {},
   "outputs": [],
   "source": [
    "# lets train our model now:\n",
    "early_stopping_monitor = EarlyStopping(patience=2) \n",
    "history = model.fit_generator(train_generator, steps_per_epoch=train_len//batch_size,\\\n",
    "                    epochs=100, validation_data=valid_generator,\\\n",
    "                   validation_steps=val_len//batch_size,\\\n",
    "                   callbacks = [early_stopping_monitor])\n",
    "model.save_weights('first_try.h5')"
   ]
  },
  {
   "cell_type": "code",
   "execution_count": null,
   "metadata": {},
   "outputs": [],
   "source": [
    "#  \"Accuracy\"\n",
    "plt.plot(history.history['acc'])\n",
    "plt.plot(history.history['val_acc'])\n",
    "plt.title('model accuracy')\n",
    "plt.ylabel('accuracy')\n",
    "plt.xlabel('epoch')\n",
    "plt.legend(['train', 'validation'], loc='upper left')\n",
    "plt.show()\n",
    "# \"Loss\"\n",
    "plt.plot(history.history['loss'])\n",
    "plt.plot(history.history['val_loss'])\n",
    "plt.title('model loss')\n",
    "plt.ylabel('loss')\n",
    "plt.xlabel('epoch')\n",
    "plt.legend(['train', 'validation'], loc='upper left')\n",
    "plt.show()"
   ]
  },
  {
   "cell_type": "markdown",
   "metadata": {},
   "source": [
    "- As we can see with this simple model we are getting validation accuracy of 0.5 and train accuracy of 0.744\n",
    "- Lets try to improve our model further and lets see whether it improves or not."
   ]
  },
  {
   "cell_type": "code",
   "execution_count": null,
   "metadata": {},
   "outputs": [],
   "source": [
    "from sklearn.utils import class_weight"
   ]
  },
  {
   "cell_type": "code",
   "execution_count": null,
   "metadata": {},
   "outputs": [],
   "source": [
    "train_labels = train_generator.labels\n",
    "unique_labels = np.unique(train_labels)"
   ]
  },
  {
   "cell_type": "code",
   "execution_count": null,
   "metadata": {},
   "outputs": [],
   "source": [
    "import seaborn as sns"
   ]
  },
  {
   "cell_type": "code",
   "execution_count": null,
   "metadata": {},
   "outputs": [],
   "source": [
    "sns.countplot(train_labels);\n",
    "plt.xlabel('case type');\n",
    "plt.ylabel('number of cases');"
   ]
  },
  {
   "cell_type": "code",
   "execution_count": null,
   "metadata": {},
   "outputs": [],
   "source": [
    "class_weights = class_weight.compute_class_weight('balanced',\n",
    "                                                 unique_labels,\n",
    "                                                 train_labels)\n",
    "class_weight_dict = dict(enumerate(class_weights))"
   ]
  },
  {
   "cell_type": "markdown",
   "metadata": {},
   "source": [
    "- From above we can see out data is imbalance and number of normal cases are less than pneumonia cases in our train dataset.\n",
    "- So lets try to implement class_weights and see whether our model performance improves."
   ]
  },
  {
   "cell_type": "code",
   "execution_count": null,
   "metadata": {},
   "outputs": [],
   "source": [
    "class_weight_dict"
   ]
  },
  {
   "cell_type": "code",
   "execution_count": null,
   "metadata": {},
   "outputs": [],
   "source": [
    "from keras.optimizers import adam"
   ]
  },
  {
   "cell_type": "code",
   "execution_count": null,
   "metadata": {},
   "outputs": [],
   "source": [
    "#lets change our model and see if it improves\n",
    "def three_conv_model():\n",
    "    model = Sequential()\n",
    "    model.add(Conv2D(64, (3, 3), activation='relu', kernel_initializer='he_uniform', padding='same', input_shape=(64, 64, 3)))\n",
    "    model.add(MaxPooling2D((2, 2)))\n",
    "    model.add(Conv2D(32, (3, 3), activation='relu', kernel_initializer='he_uniform', padding='same'))\n",
    "    model.add(MaxPooling2D((2, 2)))\n",
    "    model.add(Conv2D(128, (3, 3), activation='relu', kernel_initializer='he_uniform', padding='same'))\n",
    "    model.add(MaxPooling2D((2, 2)))\n",
    "    model.add(Flatten())\n",
    "    model.add(Dense(128, activation='relu', kernel_initializer='he_uniform'))\n",
    "    model.add(Dense(1, activation='sigmoid'))\n",
    "    # compile model\n",
    "    opt = adam(lr=0.001)#momentum=0.9)\n",
    "    model.compile(optimizer=opt, loss='binary_crossentropy', metrics=['accuracy'])\n",
    "    return model"
   ]
  },
  {
   "cell_type": "code",
   "execution_count": null,
   "metadata": {},
   "outputs": [],
   "source": [
    "model.summary()"
   ]
  },
  {
   "cell_type": "code",
   "execution_count": null,
   "metadata": {},
   "outputs": [],
   "source": [
    "batch_size = 16\n",
    "train_datagen = ImageDataGenerator(rescale=1.0/255.0,\n",
    "                            shear_range = 0.2,\n",
    "                            zoom_range = 0.2,\n",
    "                            horizontal_flip = True,\n",
    "                            rotation_range=10)\n",
    "test_datagen = ImageDataGenerator(rescale = 1./255)\n",
    "# we will use .flow_from_directory() to generate batches of images data instead of loading them manually\n",
    "batch_size = 16\n",
    "train_generator = train_datagen.flow_from_directory(dir_path+'/train', batch_size=batch_size,\\\n",
    "                                              class_mode='binary', target_size=(64, 64))\n",
    "valid_generator = test_datagen.flow_from_directory(dir_path+'/val', batch_size=batch_size,\\\n",
    "                                              class_mode='binary', target_size=(64, 64))\n",
    "test_generator = test_datagen.flow_from_directory(dir_path+'/test', batch_size=batch_size,\\\n",
    "                                             class_mode='binary', target_size=(64, 64))"
   ]
  },
  {
   "cell_type": "code",
   "execution_count": null,
   "metadata": {},
   "outputs": [],
   "source": [
    "mul_conv_model = three_conv_model()\n",
    "early_stopping_monitor = EarlyStopping(patience=5) \n",
    "mul_conv_history = mul_conv_model.fit_generator(train_generator, steps_per_epoch=train_len//batch_size,\\\n",
    "                    epochs=100, validation_data=valid_generator,\\\n",
    "                   validation_steps=val_len//batch_size,\\\n",
    "                   callbacks = [early_stopping_monitor],\\\n",
    "                   class_weight=class_weight_dict)"
   ]
  },
  {
   "cell_type": "code",
   "execution_count": 109,
   "metadata": {},
   "outputs": [
    {
     "data": {
      "image/png": "[encoded data removed]",
      "text/plain": [
       "<Figure size 432x288 with 2 Axes>"
      ]
     },
     "metadata": {
      "needs_background": "light"
     },
     "output_type": "display_data"
    }
   ],
   "source": [
    "summarize_diagnostics(mul_conv_history)"
   ]
  },
  {
   "cell_type": "code",
   "execution_count": 114,
   "metadata": {},
   "outputs": [
    {
     "name": "stdout",
     "output_type": "stream",
     "text": [
      "accuracy on test data using convolution neural networks is 88.46153846153845%\n"
     ]
    }
   ],
   "source": [
    "_, acc = mul_conv_model.evaluate_generator(test_generator, steps=len(test_generator))\n",
    "print(f'accuracy on test data using convolution neural networks is {acc * 100.0}%')"
   ]
  },
  {
   "cell_type": "markdown",
   "metadata": {},
   "source": [
    "## Lets try using pretrained vgg16 model now"
   ]
  },
  {
   "cell_type": "code",
   "execution_count": null,
   "metadata": {},
   "outputs": [],
   "source": [
    "from keras.applications.vgg16 import VGG16, preprocess_input\n",
    "from keras.optimizers import SGD, Nadam\n",
    "from keras.models import Model"
   ]
  },
  {
   "cell_type": "code",
   "execution_count": null,
   "metadata": {},
   "outputs": [],
   "source": [
    "def define_vggmodel():\n",
    "    # load model\n",
    "    model = VGG16(include_top=False, input_shape=(64, 64, 3))\n",
    "    # mark loaded layers as not trainable\n",
    "    for layer in model.layers:\n",
    "        layer.trainable = False\n",
    "    # add new classifier layers\n",
    "    flat1 = Flatten()(model.layers[-1].output)\n",
    "    class1 = Dense(128, activation='relu', kernel_initializer='he_uniform')(flat1)\n",
    "    output = Dense(1, activation='sigmoid')(class1)\n",
    "    # define new model\n",
    "    model = Model(inputs=model.inputs, outputs=output)\n",
    "    # compile model\n",
    "    opt = SGD(lr=0.001, momentum=0.9)\n",
    "    model.compile(optimizer=opt, loss='binary_crossentropy', metrics=['accuracy'])\n",
    "    return model"
   ]
  },
  {
   "cell_type": "code",
   "execution_count": null,
   "metadata": {},
   "outputs": [],
   "source": [
    "vgg_model = define_vggmodel()\n",
    "vgg_early_stopping_monitor = EarlyStopping(patience=5) \n",
    "vgg_history = vgg_model.fit_generator(train_generator, steps_per_epoch=train_len//batch_size,\\\n",
    "                    epochs=100, validation_data=valid_generator,\\\n",
    "                   validation_steps=val_len//batch_size,\\\n",
    "                   callbacks = [vgg_early_stopping_monitor],\\\n",
    "                   class_weight=class_weight_dict)"
   ]
  },
  {
   "cell_type": "code",
   "execution_count": null,
   "metadata": {},
   "outputs": [],
   "source": [
    "import sys\n",
    "def summarize_diagnostics(history):\n",
    "    # plot loss\n",
    "    plt.subplot(211)\n",
    "    plt.title('Cross Entropy Loss')\n",
    "    plt.plot(history.history['loss'], color='blue', label='train')\n",
    "    plt.plot(history.history['val_loss'], color='orange', label='val')\n",
    "    plt.legend()\n",
    "    # plot accuracy\n",
    "    plt.subplot(212)\n",
    "    plt.title('Classification Accuracy')\n",
    "    plt.plot(history.history['acc'], color='blue', label='train')\n",
    "    plt.plot(history.history['val_acc'], color='orange', label='val')\n",
    "    plt.legend()\n",
    "    # save plot to file\n",
    "    filename = sys.argv[0].split('/')[-1]\n",
    "    plt.savefig(filename + '_plot.png')\n",
    "    plt.tight_layout()\n",
    "    plt.show()"
   ]
  },
  {
   "cell_type": "code",
   "execution_count": 110,
   "metadata": {},
   "outputs": [
    {
     "data": {
      "image/png": "[encoded data removed]",
      "text/plain": [
       "<Figure size 432x288 with 2 Axes>"
      ]
     },
     "metadata": {
      "needs_background": "light"
     },
     "output_type": "display_data"
    }
   ],
   "source": [
    "summarize_diagnostics(vgg_history)"
   ]
  },
  {
   "cell_type": "code",
   "execution_count": 112,
   "metadata": {},
   "outputs": [
    {
     "name": "stdout",
     "output_type": "stream",
     "text": [
      "accuracy on test data using pretrained vgg model is 89.26282051282051\n"
     ]
    }
   ],
   "source": [
    "_, acc = vgg_model.evaluate_generator(test_generator, steps=len(test_generator))\n",
    "print(f'accuracy on test data using pretrained vgg model is {acc * 100.0}')"
   ]
  },
  {
   "cell_type": "markdown",
   "metadata": {},
   "source": [
    "- lets add more layers in the end and see if the model is improving."
   ]
  },
  {
   "cell_type": "code",
   "execution_count": null,
   "metadata": {},
   "outputs": [],
   "source": [
    "batch_size = 16\n",
    "train_datagen = ImageDataGenerator(rescale=1.0/255.0,\n",
    "                            shear_range = 0.2,\n",
    "                            zoom_range = 0.2,\n",
    "                            horizontal_flip = True,\n",
    "                            rotation_range=10)\n",
    "test_datagen = ImageDataGenerator(rescale = 1./255)\n",
    "# we will use .flow_from_directory() to generate batches of images data instead of loading them manually\n",
    "batch_size = 16\n",
    "train_generator = train_datagen.flow_from_directory(dir_path+'/train', batch_size=batch_size,\\\n",
    "                                              class_mode='binary', target_size=(128, 128))\n",
    "valid_generator = test_datagen.flow_from_directory(dir_path+'/val', batch_size=batch_size,\\\n",
    "                                              class_mode='binary', target_size=(128, 128))\n",
    "test_generator = test_datagen.flow_from_directory(dir_path+'/test', batch_size=batch_size,\\\n",
    "                                             class_mode='binary', target_size=(128, 128))"
   ]
  },
  {
   "cell_type": "code",
   "execution_count": 116,
   "metadata": {},
   "outputs": [],
   "source": [
    "def improved_three_conv_model():\n",
    "    model = Sequential()\n",
    "    model.add(Conv2D(64, (3, 3), activation='relu', kernel_initializer='he_uniform', padding='same', input_shape=(64, 64, 3)))\n",
    "    model.add(MaxPooling2D((2, 2)))\n",
    "    model.add(Conv2D(32, (3, 3), activation='relu', kernel_initializer='he_uniform', padding='same'))\n",
    "    model.add(MaxPooling2D((2, 2)))\n",
    "    model.add(Conv2D(128, (3, 3), activation='relu', kernel_initializer='he_uniform', padding='same'))\n",
    "    model.add(MaxPooling2D((2, 2)))\n",
    "    model.add(Flatten())\n",
    "    model.add(Dense(128, activation='relu', kernel_initializer='he_uniform'))\n",
    "    model.add(Dense(256,activation='relu', kernel_initializer='he_uniform'))\n",
    "    model.add(Dense(64, activation='relu', kernel_initializer='he_uniform'))\n",
    "    model.add(Dense(1, activation='sigmoid'))\n",
    "    # compile model\n",
    "    opt = adam(lr=0.001)#momentum=0.9)\n",
    "    model.compile(optimizer=opt, loss='binary_crossentropy', metrics=['accuracy'])\n",
    "    return model"
   ]
  },
  {
   "cell_type": "code",
   "execution_count": 117,
   "metadata": {},
   "outputs": [
    {
     "name": "stdout",
     "output_type": "stream",
     "text": [
      "Epoch 1/100\n",
      "326/326 [==============================] - 72s 220ms/step - loss: 0.4044 - acc: 0.8060 - val_loss: 0.7636 - val_acc: 0.7500\n",
      "Epoch 2/100\n",
      "326/326 [==============================] - 68s 210ms/step - loss: 0.2451 - acc: 0.8877 - val_loss: 0.3127 - val_acc: 0.9375\n",
      "Epoch 3/100\n",
      "326/326 [==============================] - 68s 209ms/step - loss: 0.2225 - acc: 0.9022 - val_loss: 0.2701 - val_acc: 0.8750\n",
      "Epoch 4/100\n",
      "326/326 [==============================] - 69s 210ms/step - loss: 0.1848 - acc: 0.9229 - val_loss: 0.4346 - val_acc: 0.8125\n",
      "Epoch 5/100\n",
      "326/326 [==============================] - 70s 213ms/step - loss: 0.1869 - acc: 0.9235 - val_loss: 0.4424 - val_acc: 0.7500\n",
      "Epoch 6/100\n",
      "326/326 [==============================] - 68s 209ms/step - loss: 0.1605 - acc: 0.9327 - val_loss: 0.5448 - val_acc: 0.6875\n",
      "Epoch 7/100\n",
      "326/326 [==============================] - 68s 209ms/step - loss: 0.1670 - acc: 0.9316 - val_loss: 0.2591 - val_acc: 0.8750\n",
      "Epoch 8/100\n",
      "326/326 [==============================] - 68s 208ms/step - loss: 0.1549 - acc: 0.9337 - val_loss: 0.2805 - val_acc: 0.8750\n",
      "Epoch 9/100\n",
      "326/326 [==============================] - 68s 209ms/step - loss: 0.1483 - acc: 0.9358 - val_loss: 0.6822 - val_acc: 0.7500\n",
      "Epoch 10/100\n",
      "326/326 [==============================] - 69s 210ms/step - loss: 0.1517 - acc: 0.9419 - val_loss: 0.2987 - val_acc: 0.9375\n",
      "Epoch 11/100\n",
      "326/326 [==============================] - 67s 206ms/step - loss: 0.1327 - acc: 0.9433 - val_loss: 0.1569 - val_acc: 0.9375\n",
      "Epoch 12/100\n",
      "326/326 [==============================] - 68s 208ms/step - loss: 0.1436 - acc: 0.9413 - val_loss: 0.2041 - val_acc: 0.9375\n",
      "Epoch 13/100\n",
      "326/326 [==============================] - 68s 207ms/step - loss: 0.1285 - acc: 0.9528 - val_loss: 0.3589 - val_acc: 0.8125\n",
      "Epoch 14/100\n",
      "326/326 [==============================] - 69s 211ms/step - loss: 0.1388 - acc: 0.9431 - val_loss: 0.2777 - val_acc: 0.8125\n",
      "Epoch 15/100\n",
      "326/326 [==============================] - 67s 207ms/step - loss: 0.1311 - acc: 0.9427 - val_loss: 0.8485 - val_acc: 0.6250\n",
      "Epoch 16/100\n",
      "326/326 [==============================] - 68s 208ms/step - loss: 0.1251 - acc: 0.9530 - val_loss: 0.3913 - val_acc: 0.8125\n"
     ]
    }
   ],
   "source": [
    "improve_mul_conv_model = improved_three_conv_model()\n",
    "early_stopping_monitor = EarlyStopping(patience=5) \n",
    "impr_mul_conv_history = improve_mul_conv_model.fit_generator(train_generator, steps_per_epoch=train_len//batch_size,\\\n",
    "                    epochs=100, validation_data=valid_generator,\\\n",
    "                   validation_steps=val_len//batch_size,\\\n",
    "                   callbacks = [early_stopping_monitor],\\\n",
    "                   class_weight=class_weight_dict)"
   ]
  },
  {
   "cell_type": "code",
   "execution_count": 118,
   "metadata": {},
   "outputs": [
    {
     "data": {
      "image/png": "[encoded data removed]",
      "text/plain": [
       "<Figure size 432x288 with 2 Axes>"
      ]
     },
     "metadata": {
      "needs_background": "light"
     },
     "output_type": "display_data"
    }
   ],
   "source": [
    "summarize_diagnostics(impr_mul_conv_history)"
   ]
  },
  {
   "cell_type": "code",
   "execution_count": 119,
   "metadata": {},
   "outputs": [
    {
     "name": "stdout",
     "output_type": "stream",
     "text": [
      "accuracy on test data using improved convolution neural networks is 91.50641025641025%\n"
     ]
    }
   ],
   "source": [
    "_, acc = improve_mul_conv_model.evaluate_generator(test_generator, steps=len(test_generator))\n",
    "print(f'accuracy on test data using improved convolution neural networks is {acc * 100.0}%')"
   ]
  },
  {
   "cell_type": "markdown",
   "metadata": {},
   "source": [
    "- Lets try to further improve our cnn network"
   ]
  },
  {
   "cell_type": "code",
   "execution_count": 124,
   "metadata": {},
   "outputs": [],
   "source": [
    "def further_improved_three_conv_model():\n",
    "    model = Sequential()\n",
    "    model.add(Conv2D(128, (3, 3), activation='relu', kernel_initializer='he_uniform', padding='same', input_shape=(128, 128, 3)))\n",
    "    model.add(MaxPooling2D((2, 2)))\n",
    "    \n",
    "    model.add(Conv2D(32, (3, 3), activation='relu', kernel_initializer='he_uniform', padding='same'))\n",
    "    model.add(MaxPooling2D((2, 2)))\n",
    "    \n",
    "    model.add(Conv2D(128, (3, 3), activation='relu', kernel_initializer='he_uniform', padding='valid'))\n",
    "    model.add(MaxPooling2D((2, 2)))\n",
    "    \n",
    "    model.add(Conv2D(128, (3, 3), activation='relu', kernel_initializer='he_uniform', padding='same'))\n",
    "    model.add(MaxPooling2D((2, 2)))\n",
    "\n",
    "    \n",
    "    model.add(Flatten())\n",
    "    model.add(Dense(128, activation='relu', kernel_initializer='he_uniform'))\n",
    "    model.add(Dense(256,activation='relu', kernel_initializer='he_uniform'))\n",
    "    model.add(Dense(64, activation='relu', kernel_initializer='he_uniform'))\n",
    "    model.add(Dense(1, activation='sigmoid'))\n",
    "    # compile model\n",
    "    opt = adam(lr=0.001)#momentum=0.9)\n",
    "    model.compile(optimizer=opt, loss='binary_crossentropy', metrics=['accuracy'])\n",
    "    return model"
   ]
  },
  {
   "cell_type": "code",
   "execution_count": 122,
   "metadata": {},
   "outputs": [
    {
     "name": "stdout",
     "output_type": "stream",
     "text": [
      "Found 5216 images belonging to 2 classes.\n",
      "Found 16 images belonging to 2 classes.\n",
      "Found 624 images belonging to 2 classes.\n"
     ]
    }
   ],
   "source": [
    "batch_size = 16\n",
    "train_datagen = ImageDataGenerator(rescale=1.0/255.0,\n",
    "                            shear_range = 0.2,\n",
    "                            zoom_range = 0.2,\n",
    "                            horizontal_flip = True,\n",
    "                            rotation_range=10)\n",
    "test_datagen = ImageDataGenerator(rescale = 1./255)\n",
    "# we will use .flow_from_directory() to generate batches of images data instead of loading them manually\n",
    "batch_size = 16\n",
    "train_generator = train_datagen.flow_from_directory(dir_path+'/train', batch_size=batch_size,\\\n",
    "                                              class_mode='binary', target_size=(128, 128))\n",
    "valid_generator = test_datagen.flow_from_directory(dir_path+'/val', batch_size=batch_size,\\\n",
    "                                              class_mode='binary', target_size=(128, 128))\n",
    "test_generator = test_datagen.flow_from_directory(dir_path+'/test', batch_size=batch_size,\\\n",
    "                                             class_mode='binary', target_size=(128, 128))"
   ]
  },
  {
   "cell_type": "code",
   "execution_count": 125,
   "metadata": {},
   "outputs": [
    {
     "name": "stdout",
     "output_type": "stream",
     "text": [
      "Epoch 1/100\n",
      "326/326 [==============================] - 85s 261ms/step - loss: 0.4448 - acc: 0.7845 - val_loss: 0.7231 - val_acc: 0.6875\n",
      "Epoch 2/100\n",
      "326/326 [==============================] - 82s 252ms/step - loss: 0.2653 - acc: 0.8829 - val_loss: 0.5354 - val_acc: 0.8125\n",
      "Epoch 3/100\n",
      "326/326 [==============================] - 83s 253ms/step - loss: 0.2425 - acc: 0.8957 - val_loss: 1.6414 - val_acc: 0.6875\n",
      "Epoch 4/100\n",
      "326/326 [==============================] - 82s 252ms/step - loss: 0.2139 - acc: 0.9061 - val_loss: 0.8532 - val_acc: 0.6250\n",
      "Epoch 5/100\n",
      "326/326 [==============================] - 82s 251ms/step - loss: 0.2088 - acc: 0.9156 - val_loss: 1.2486 - val_acc: 0.6875\n",
      "Epoch 6/100\n",
      "326/326 [==============================] - 83s 253ms/step - loss: 0.1923 - acc: 0.9178 - val_loss: 0.5041 - val_acc: 0.6875\n",
      "Epoch 7/100\n",
      "326/326 [==============================] - 82s 252ms/step - loss: 0.1863 - acc: 0.9141 - val_loss: 0.9713 - val_acc: 0.6875\n",
      "Epoch 8/100\n",
      "326/326 [==============================] - 82s 253ms/step - loss: 0.1741 - acc: 0.9258 - val_loss: 0.7130 - val_acc: 0.6250\n",
      "Epoch 9/100\n",
      "326/326 [==============================] - 83s 253ms/step - loss: 0.1724 - acc: 0.9250 - val_loss: 0.5823 - val_acc: 0.7500\n",
      "Epoch 10/100\n",
      "326/326 [==============================] - 83s 255ms/step - loss: 0.1700 - acc: 0.9304 - val_loss: 0.6838 - val_acc: 0.6875\n",
      "Epoch 11/100\n",
      "326/326 [==============================] - 82s 252ms/step - loss: 0.1661 - acc: 0.9340 - val_loss: 0.4674 - val_acc: 0.6250\n",
      "Epoch 12/100\n",
      "326/326 [==============================] - 82s 251ms/step - loss: 0.1572 - acc: 0.9396 - val_loss: 0.4022 - val_acc: 0.8125\n",
      "Epoch 13/100\n",
      "326/326 [==============================] - 82s 250ms/step - loss: 0.1571 - acc: 0.9362 - val_loss: 0.3142 - val_acc: 0.8125\n",
      "Epoch 14/100\n",
      "326/326 [==============================] - 83s 254ms/step - loss: 0.1497 - acc: 0.9411 - val_loss: 0.3285 - val_acc: 0.8125\n",
      "Epoch 15/100\n",
      "326/326 [==============================] - 82s 252ms/step - loss: 0.1449 - acc: 0.9410 - val_loss: 0.3105 - val_acc: 0.8125\n",
      "Epoch 16/100\n",
      "326/326 [==============================] - 81s 250ms/step - loss: 0.1434 - acc: 0.9429 - val_loss: 0.3908 - val_acc: 0.8125\n",
      "Epoch 17/100\n",
      "326/326 [==============================] - 82s 252ms/step - loss: 0.1407 - acc: 0.9469 - val_loss: 0.3112 - val_acc: 0.8750\n",
      "Epoch 18/100\n",
      "326/326 [==============================] - 82s 251ms/step - loss: 0.1392 - acc: 0.9421 - val_loss: 0.6826 - val_acc: 0.6875\n",
      "Epoch 19/100\n",
      "326/326 [==============================] - 81s 249ms/step - loss: 0.1306 - acc: 0.9433 - val_loss: 0.3568 - val_acc: 0.8125\n",
      "Epoch 20/100\n",
      "326/326 [==============================] - 81s 249ms/step - loss: 0.1273 - acc: 0.9479 - val_loss: 0.2907 - val_acc: 0.8750\n",
      "Epoch 21/100\n",
      "326/326 [==============================] - 82s 251ms/step - loss: 0.1272 - acc: 0.9538 - val_loss: 0.3558 - val_acc: 0.7500\n",
      "Epoch 22/100\n",
      "326/326 [==============================] - 81s 247ms/step - loss: 0.1334 - acc: 0.9440 - val_loss: 0.3812 - val_acc: 0.8125\n",
      "Epoch 23/100\n",
      "326/326 [==============================] - 81s 248ms/step - loss: 0.1284 - acc: 0.9465 - val_loss: 0.3283 - val_acc: 0.8125\n",
      "Epoch 24/100\n",
      "326/326 [==============================] - 81s 248ms/step - loss: 0.1131 - acc: 0.9525 - val_loss: 0.3433 - val_acc: 0.6875\n",
      "Epoch 25/100\n",
      "326/326 [==============================] - 82s 251ms/step - loss: 0.1215 - acc: 0.9477 - val_loss: 0.2857 - val_acc: 0.8750\n",
      "Epoch 26/100\n",
      "326/326 [==============================] - 81s 248ms/step - loss: 0.1243 - acc: 0.9513 - val_loss: 0.3278 - val_acc: 0.7500\n",
      "Epoch 27/100\n",
      "326/326 [==============================] - 81s 248ms/step - loss: 0.1198 - acc: 0.9548 - val_loss: 0.4580 - val_acc: 0.8125\n",
      "Epoch 28/100\n",
      "326/326 [==============================] - 81s 247ms/step - loss: 0.1185 - acc: 0.9502 - val_loss: 0.2103 - val_acc: 0.8750\n",
      "Epoch 29/100\n",
      "326/326 [==============================] - 81s 250ms/step - loss: 0.1191 - acc: 0.9553 - val_loss: 0.2685 - val_acc: 0.8125\n",
      "Epoch 30/100\n",
      "326/326 [==============================] - 80s 246ms/step - loss: 0.1178 - acc: 0.9530 - val_loss: 0.6476 - val_acc: 0.8125\n",
      "Epoch 31/100\n",
      "326/326 [==============================] - 81s 249ms/step - loss: 0.1013 - acc: 0.9620 - val_loss: 0.3457 - val_acc: 0.8125\n",
      "Epoch 32/100\n",
      "326/326 [==============================] - 82s 252ms/step - loss: 0.1141 - acc: 0.9525 - val_loss: 0.1796 - val_acc: 0.8750\n",
      "Epoch 33/100\n",
      "326/326 [==============================] - 82s 250ms/step - loss: 0.1062 - acc: 0.9580 - val_loss: 0.3211 - val_acc: 0.8750\n",
      "Epoch 34/100\n",
      "326/326 [==============================] - 81s 249ms/step - loss: 0.1030 - acc: 0.9601 - val_loss: 0.2426 - val_acc: 0.8750\n",
      "Epoch 35/100\n",
      "326/326 [==============================] - 82s 250ms/step - loss: 0.1097 - acc: 0.9565 - val_loss: 0.1687 - val_acc: 0.8750\n",
      "Epoch 36/100\n",
      "326/326 [==============================] - 82s 251ms/step - loss: 0.0975 - acc: 0.9617 - val_loss: 0.2518 - val_acc: 0.8750\n",
      "Epoch 37/100\n",
      "326/326 [==============================] - 81s 249ms/step - loss: 0.1114 - acc: 0.9532 - val_loss: 0.1123 - val_acc: 1.0000\n",
      "Epoch 38/100\n",
      "326/326 [==============================] - 81s 248ms/step - loss: 0.1069 - acc: 0.9572 - val_loss: 0.3951 - val_acc: 0.8125\n",
      "Epoch 39/100\n",
      "326/326 [==============================] - 81s 248ms/step - loss: 0.1147 - acc: 0.9555 - val_loss: 0.1365 - val_acc: 1.0000\n",
      "Epoch 40/100\n",
      "326/326 [==============================] - 82s 251ms/step - loss: 0.1010 - acc: 0.9594 - val_loss: 0.2256 - val_acc: 0.8750\n",
      "Epoch 41/100\n",
      "326/326 [==============================] - 81s 250ms/step - loss: 0.1001 - acc: 0.9582 - val_loss: 0.0973 - val_acc: 0.9375\n",
      "Epoch 42/100\n",
      "326/326 [==============================] - 81s 250ms/step - loss: 0.1075 - acc: 0.9622 - val_loss: 0.3408 - val_acc: 0.8125\n",
      "Epoch 43/100\n",
      "326/326 [==============================] - 81s 250ms/step - loss: 0.0959 - acc: 0.9590 - val_loss: 0.0814 - val_acc: 1.0000\n",
      "Epoch 44/100\n",
      "326/326 [==============================] - 82s 252ms/step - loss: 0.0905 - acc: 0.9664 - val_loss: 0.2374 - val_acc: 0.9375\n",
      "Epoch 45/100\n",
      "326/326 [==============================] - 81s 248ms/step - loss: 0.0835 - acc: 0.9676 - val_loss: 0.0699 - val_acc: 1.0000\n",
      "Epoch 46/100\n",
      "326/326 [==============================] - 81s 248ms/step - loss: 0.1038 - acc: 0.9618 - val_loss: 0.1884 - val_acc: 0.8750\n",
      "Epoch 47/100\n",
      "326/326 [==============================] - 82s 250ms/step - loss: 0.0877 - acc: 0.9638 - val_loss: 0.0711 - val_acc: 1.0000\n",
      "Epoch 48/100\n",
      "326/326 [==============================] - 81s 248ms/step - loss: 0.0923 - acc: 0.9630 - val_loss: 0.1952 - val_acc: 0.8750\n",
      "Epoch 49/100\n",
      "326/326 [==============================] - 81s 248ms/step - loss: 0.0949 - acc: 0.9611 - val_loss: 0.3303 - val_acc: 0.8750\n",
      "Epoch 50/100\n",
      "326/326 [==============================] - 81s 249ms/step - loss: 0.0920 - acc: 0.9594 - val_loss: 0.1291 - val_acc: 1.0000\n"
     ]
    }
   ],
   "source": [
    "further_imp_conv_model = further_improved_three_conv_model()\n",
    "early_stopping_monitor = EarlyStopping(patience=5) \n",
    "further_impr_mul_conv_history = further_imp_conv_model.fit_generator(train_generator, steps_per_epoch=train_len//batch_size,\\\n",
    "                    epochs=100, validation_data=valid_generator,\\\n",
    "                   validation_steps=val_len//batch_size,\\\n",
    "                   callbacks = [early_stopping_monitor],\\\n",
    "                   class_weight=class_weight_dict)"
   ]
  },
  {
   "cell_type": "code",
   "execution_count": 126,
   "metadata": {},
   "outputs": [
    {
     "data": {
      "image/png": "[encoded data removed]",
      "text/plain": [
       "<Figure size 432x288 with 2 Axes>"
      ]
     },
     "metadata": {
      "needs_background": "light"
     },
     "output_type": "display_data"
    }
   ],
   "source": [
    "summarize_diagnostics(further_impr_mul_conv_history)"
   ]
  },
  {
   "cell_type": "code",
   "execution_count": 193,
   "metadata": {},
   "outputs": [
    {
     "name": "stdout",
     "output_type": "stream",
     "text": [
      "accuracy on test data using further improved convolution neural networks is 94.07051282051282%\n",
      "test loss on test data using further improved convolution neural networks is 0.20237024431713882\n"
     ]
    }
   ],
   "source": [
    "test_loss, acc = further_imp_conv_model.evaluate_generator(test_generator, steps=len(test_generator))\n",
    "print(f'accuracy on test data using further improved convolution neural networks is {acc * 100.0}%')\n",
    "print(f'test loss on test data using further improved convolution neural networks is {test_loss}')"
   ]
  },
  {
   "cell_type": "code",
   "execution_count": 130,
   "metadata": {},
   "outputs": [],
   "source": [
    "# lets save the weights\n",
    "further_imp_conv_model.save_weights('best_cnn_weights.h5')"
   ]
  },
  {
   "cell_type": "code",
   "execution_count": 131,
   "metadata": {},
   "outputs": [],
   "source": [
    "further_imp_conv_model.save(\"further_improved_cnn_model.h5\")"
   ]
  },
  {
   "cell_type": "code",
   "execution_count": 132,
   "metadata": {},
   "outputs": [
    {
     "data": {
      "text/plain": [
       "['first_try.h5',\n",
       " 'best_cnn_weights.h5',\n",
       " 'further_improved_cnn_model.h5',\n",
       " 'ipykernel_launcher.py_plot.png',\n",
       " '.ipynb_checkpoints',\n",
       " '__notebook_source__.ipynb']"
      ]
     },
     "execution_count": 132,
     "metadata": {},
     "output_type": "execute_result"
    }
   ],
   "source": [
    "os.listdir()"
   ]
  },
  {
   "cell_type": "code",
   "execution_count": 194,
   "metadata": {},
   "outputs": [],
   "source": [
    "test_generator.reset()"
   ]
  },
  {
   "cell_type": "code",
   "execution_count": 201,
   "metadata": {},
   "outputs": [],
   "source": [
    "test_generator.reset()"
   ]
  },
  {
   "cell_type": "code",
   "execution_count": 202,
   "metadata": {},
   "outputs": [],
   "source": [
    "batch_x, batch_y = test_generator.next()"
   ]
  },
  {
   "cell_type": "code",
   "execution_count": 205,
   "metadata": {},
   "outputs": [
    {
     "data": {
      "text/plain": [
       "1"
      ]
     },
     "execution_count": 205,
     "metadata": {},
     "output_type": "execute_result"
    }
   ],
   "source": [
    "test_generator.batch_index"
   ]
  },
  {
   "cell_type": "code",
   "execution_count": 210,
   "metadata": {},
   "outputs": [],
   "source": [
    "aa = []\n",
    "aa.extend(list(batch_y))"
   ]
  },
  {
   "cell_type": "code",
   "execution_count": 218,
   "metadata": {},
   "outputs": [
    {
     "name": "stdout",
     "output_type": "stream",
     "text": [
      "0\n",
      "1\n",
      "2\n",
      "3\n",
      "4\n",
      "5\n",
      "6\n",
      "7\n",
      "8\n",
      "9\n",
      "10\n",
      "11\n",
      "12\n",
      "13\n",
      "14\n",
      "15\n",
      "16\n",
      "17\n",
      "18\n",
      "19\n",
      "20\n",
      "21\n",
      "22\n",
      "23\n",
      "24\n",
      "25\n",
      "26\n",
      "27\n",
      "28\n",
      "29\n",
      "30\n",
      "31\n",
      "32\n",
      "33\n",
      "34\n",
      "35\n",
      "36\n",
      "37\n",
      "38\n"
     ]
    }
   ],
   "source": [
    "test_generator.reset()\n",
    "test_predict_proba = []\n",
    "test_actual = []\n",
    "for itr in range(len(test_generator)):\n",
    "    b_x, b_y = test_generator.next()\n",
    "    pre_list = list(further_imp_conv_model.predict_on_batch(b_x)[:,0])\n",
    "    test_predict_proba.extend(pre_list)\n",
    "    test_actual.extend(list(b_y))\n",
    "    print(itr)"
   ]
  },
  {
   "cell_type": "code",
   "execution_count": 190,
   "metadata": {},
   "outputs": [],
   "source": [
    "test_actual_values = test_generator.classes"
   ]
  },
  {
   "cell_type": "code",
   "execution_count": 158,
   "metadata": {},
   "outputs": [],
   "source": [
    "import scikitplot as skplt"
   ]
  },
  {
   "cell_type": "code",
   "execution_count": 223,
   "metadata": {},
   "outputs": [
    {
     "data": {
      "image/png": "[encoded data removed]",
      "text/plain": [
       "<Figure size 432x288 with 2 Axes>"
      ]
     },
     "metadata": {
      "needs_background": "light"
     },
     "output_type": "display_data"
    }
   ],
   "source": [
    "skplt.metrics.plot_confusion_matrix(np.array(test_actual), np.round(test_predict_proba));"
   ]
  },
  {
   "cell_type": "code",
   "execution_count": 173,
   "metadata": {},
   "outputs": [],
   "source": [
    "from sklearn.metrics import classification_report\n",
    "from sklearn.metrics import accuracy_score"
   ]
  },
  {
   "cell_type": "code",
   "execution_count": 224,
   "metadata": {},
   "outputs": [
    {
     "data": {
      "text/plain": [
       "0.9375"
      ]
     },
     "execution_count": 224,
     "metadata": {},
     "output_type": "execute_result"
    }
   ],
   "source": [
    "accuracy_score(np.array(test_actual), np.round(test_predict_proba))"
   ]
  },
  {
   "cell_type": "code",
   "execution_count": 225,
   "metadata": {},
   "outputs": [
    {
     "name": "stdout",
     "output_type": "stream",
     "text": [
      "              precision    recall  f1-score   support\n",
      "\n",
      "      Normal       0.95      0.88      0.91       234\n",
      "   PNEUMONIA       0.93      0.97      0.95       390\n",
      "\n",
      "    accuracy                           0.94       624\n",
      "   macro avg       0.94      0.93      0.93       624\n",
      "weighted avg       0.94      0.94      0.94       624\n",
      "\n"
     ]
    }
   ],
   "source": [
    "print(classification_report(np.array(test_actual), np.round(test_predict_proba), target_names=['Normal', 'PNEUMONIA']))"
   ]
  },
  {
   "cell_type": "markdown",
   "metadata": {},
   "source": [
    "- As we can see We got a very good recall rate of 0.97 on PNEUMONIA with a precision of 0.93.\n",
    "- Normally in the medical test cases recall rate is very important, we should not label a pneumonia patient as normal which puts the person in danger.\n",
    "- So by using our deep learning model we got a good recall rate as well as with good precision.\n",
    "- our weighted average f1-score is 0.94 which is very good."
   ]
  },
  {
   "cell_type": "code",
   "execution_count": null,
   "metadata": {},
   "outputs": [],
   "source": []
  }
 ],
 "metadata": {
  "kernelspec": {
   "display_name": "Python 3",
   "language": "python",
   "name": "python3"
  },
  "language_info": {
   "codemirror_mode": {
    "name": "ipython",
    "version": 3
   },
   "file_extension": ".py",
   "mimetype": "text/x-python",
   "name": "python",
   "nbconvert_exporter": "python",
   "pygments_lexer": "ipython3",
   "version": "3.7.1"
  }
 },
 "nbformat": 4,
 "nbformat_minor": 1
}
